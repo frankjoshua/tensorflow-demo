{
 "cells": [
  {
   "cell_type": "code",
   "execution_count": 1,
   "metadata": {},
   "outputs": [
    {
     "name": "stdout",
     "output_type": "stream",
     "text": [
      "1.10.1\n"
     ]
    }
   ],
   "source": [
    "import tensorflow as tf; print(tf.__version__)"
   ]
  },
  {
   "cell_type": "code",
   "execution_count": 2,
   "metadata": {},
   "outputs": [
    {
     "data": {
      "text/plain": [
       "{'dry': ['input/dry/1367731996.CSV',\n",
       "  'input/dry/1088131773.CSV',\n",
       "  'input/dry/1948652171.CSV',\n",
       "  'input/dry/891085006.CSV',\n",
       "  'input/dry/957252430.CSV',\n",
       "  'input/dry/1910189788.CSV',\n",
       "  'input/dry/530759577.CSV',\n",
       "  'input/dry/1344943899.CSV',\n",
       "  'input/dry/78520028.CSV',\n",
       "  'input/dry/1868903662.CSV',\n",
       "  'input/dry/1780329192.CSV',\n",
       "  'input/dry/1833935907.CSV',\n",
       "  'input/dry/486296532.CSV',\n",
       "  'input/dry/1610930929.CSV',\n",
       "  'input/dry/1597231826.CSV',\n",
       "  'input/dry/213951127.CSV',\n",
       "  'input/dry/143521040.CSV',\n",
       "  'input/dry/150254099.CSV',\n",
       "  'input/dry/954500386.CSV',\n",
       "  'input/dry/2083478664.CSV',\n",
       "  'input/dry/1689595608.CSV',\n",
       "  'input/dry/1816589245.CSV',\n",
       "  'input/dry/1289876659.CSV',\n",
       "  'input/dry/1357645682.CSV',\n",
       "  'input/dry/1439407403.CSV',\n",
       "  'input/dry/1894789.CSV',\n",
       "  'input/dry/1794072841.CSV',\n",
       "  'input/dry/1573713973.CSV',\n",
       "  'input/dry/822335360.CSV',\n",
       "  'input/dry/1891882976.CSV',\n",
       "  'input/dry/1409536457.CSV',\n",
       "  'input/dry/1361302372.CSV',\n",
       "  'input/dry/1325834487.CSV',\n",
       "  'input/dry/415107748.CSV',\n",
       "  'input/dry/1875995420.CSV',\n",
       "  'input/dry/558906994.CSV',\n",
       "  'input/dry/939915319.CSV',\n",
       "  'input/dry/200914295.CSV',\n",
       "  'input/dry/69676054.CSV',\n",
       "  'input/dry/1812059477.CSV',\n",
       "  'input/dry/2013933090.CSV',\n",
       "  'input/dry/581145591.CSV',\n",
       "  'input/dry/2037605477.CSV',\n",
       "  'input/dry/23004232.CSV',\n",
       "  'input/dry/871217096.CSV',\n",
       "  'input/dry/1472076867.CSV',\n",
       "  'input/dry/1598104040.CSV',\n",
       "  'input/dry/916165555.CSV',\n",
       "  'input/dry/874723090.CSV',\n",
       "  'input/dry/667861474.CSV',\n",
       "  'input/dry/973161134.CSV',\n",
       "  'input/dry/1868626861.CSV',\n",
       "  'input/dry/585566105.CSV',\n",
       "  'input/dry/206635458.CSV',\n",
       "  'input/dry/763918903.CSV',\n",
       "  'input/dry/1894775098.CSV',\n",
       "  'input/dry/1584842272.CSV',\n",
       "  'input/dry/866511193.CSV',\n",
       "  'input/dry/1425341542.CSV',\n",
       "  'input/dry/730741201.CSV',\n",
       "  'input/dry/853638664.CSV',\n",
       "  'input/dry/187848587.CSV',\n",
       "  'input/dry/1269840086.CSV',\n",
       "  'input/dry/1960864156.CSV',\n",
       "  'input/dry/1330475846.CSV',\n",
       "  'input/dry/1921111314.CSV',\n",
       "  'input/dry/1718437362.CSV',\n",
       "  'input/dry/1091669764.CSV',\n",
       "  'input/dry/1530466877.CSV',\n",
       "  'input/dry/1008725065.CSV',\n",
       "  'input/dry/222470438.CSV',\n",
       "  'input/dry/222857730.CSV',\n",
       "  'input/dry/1624691564.CSV',\n",
       "  'input/dry/824188618.CSV',\n",
       "  'input/dry/1498192866.CSV',\n",
       "  'input/dry/1191597660.CSV',\n",
       "  'input/dry/1884609903.CSV',\n",
       "  'input/dry/1910549091.CSV',\n",
       "  'input/dry/1650556746.CSV',\n",
       "  'input/dry/1408919771.CSV',\n",
       "  'input/dry/1097507648.CSV',\n",
       "  'input/dry/453616229.CSV',\n",
       "  'input/dry/560325187.CSV',\n",
       "  'input/dry/452734242.CSV',\n",
       "  'input/dry/1907508176.CSV',\n",
       "  'input/dry/1604100899.CSV',\n",
       "  'input/dry/200341148.CSV',\n",
       "  'input/dry/945578527.CSV',\n",
       "  'input/dry/1472894840.CSV',\n",
       "  'input/dry/1731502224.CSV',\n",
       "  'input/dry/639788134.CSV',\n",
       "  'input/dry/1514114427.CSV',\n",
       "  'input/dry/609782929.CSV',\n",
       "  'input/dry/784118334.CSV',\n",
       "  'input/dry/1605306145.CSV',\n",
       "  'input/dry/837508863.CSV',\n",
       "  'input/dry/178284226.CSV',\n",
       "  'input/dry/777229127.CSV',\n",
       "  'input/dry/1056519811.CSV',\n",
       "  'input/dry/403715699.CSV',\n",
       "  'input/dry/537049257.CSV',\n",
       "  'input/dry/220816379.CSV',\n",
       "  'input/dry/566545611.CSV',\n",
       "  'input/dry/2133598297.CSV',\n",
       "  'input/dry/1741503151.CSV'],\n",
       " 'pee': ['input/pee/1473099102.CSV',\n",
       "  'input/pee/1908530595.CSV',\n",
       "  'input/pee/1227515760.CSV',\n",
       "  'input/pee/1809009470.CSV',\n",
       "  'input/pee/820115159.CSV',\n",
       "  'input/pee/2048736213.CSV',\n",
       "  'input/pee/1550823235.CSV',\n",
       "  'input/pee/701548843.CSV',\n",
       "  'input/pee/1495392572.CSV',\n",
       "  'input/pee/1843271138.CSV',\n",
       "  'input/pee/1553346694.CSV',\n",
       "  'input/pee/178003409.CSV',\n",
       "  'input/pee/1081602718.CSV',\n",
       "  'input/pee/2009656850.CSV',\n",
       "  'input/pee/956949137.CSV',\n",
       "  'input/pee/930840089.CSV',\n",
       "  'input/pee/584368165.CSV',\n",
       "  'input/pee/1331502173.CSV',\n",
       "  'input/pee/1622018183.CSV',\n",
       "  'input/pee/1559072405.CSV',\n",
       "  'input/pee/304143571.CSV',\n",
       "  'input/pee/737526513.CSV',\n",
       "  'input/pee/375876915.CSV',\n",
       "  'input/pee/1495269511.CSV',\n",
       "  'input/pee/124660557.CSV',\n",
       "  'input/pee/323690553.CSV',\n",
       "  'input/pee/1317357384.CSV',\n",
       "  'input/pee/1739232532.CSV',\n",
       "  'input/pee/1871661031.CSV',\n",
       "  'input/pee/2048866318.CSV',\n",
       "  'input/pee/1879312776.CSV',\n",
       "  'input/pee/1300535777.CSV',\n",
       "  'input/pee/1412737797.CSV',\n",
       "  'input/pee/714958428.CSV',\n",
       "  'input/pee/338856009.CSV',\n",
       "  'input/pee/410067060.CSV',\n",
       "  'input/pee/1652858395.CSV',\n",
       "  'input/pee/1080620210.CSV',\n",
       "  'input/pee/354988611.CSV',\n",
       "  'input/pee/226126324.CSV',\n",
       "  'input/pee/768272464.CSV',\n",
       "  'input/pee/197814483.CSV',\n",
       "  'input/pee/1846620808.CSV',\n",
       "  'input/pee/630341980.CSV',\n",
       "  'input/pee/1121634521.CSV',\n",
       "  'input/pee/322817670.CSV',\n",
       "  'input/pee/141325029.CSV',\n",
       "  'input/pee/1083890282.CSV',\n",
       "  'input/pee/1479173831.CSV',\n",
       "  'input/pee/39521522.CSV',\n",
       "  'input/pee/705409271.CSV',\n",
       "  'input/pee/513009129.CSV',\n",
       "  'input/pee/1838421576.CSV',\n",
       "  'input/pee/2117598509.CSV',\n",
       "  'input/pee/1954063511.CSV',\n",
       "  'input/pee/404952038.CSV',\n",
       "  'input/pee/1632633708.CSV',\n",
       "  'input/pee/677769215.CSV',\n",
       "  'input/pee/1584119758.CSV',\n",
       "  'input/pee/1431381054.CSV',\n",
       "  'input/pee/813171416.CSV',\n",
       "  'input/pee/1950168860.CSV',\n",
       "  'input/pee/679144958.CSV',\n",
       "  'input/pee/1721169081.CSV',\n",
       "  'input/pee/2078265138.CSV',\n",
       "  'input/pee/2085737659.CSV',\n",
       "  'input/pee/390344365.CSV',\n",
       "  'input/pee/454619663.CSV',\n",
       "  'input/pee/1684331252.CSV',\n",
       "  'input/pee/1105206469.CSV',\n",
       "  'input/pee/528425413.CSV',\n",
       "  'input/pee/472014017.CSV',\n",
       "  'input/pee/1904855548.CSV',\n",
       "  'input/pee/921787071.CSV',\n",
       "  'input/pee/1173202073.CSV',\n",
       "  'input/pee/287913139.CSV',\n",
       "  'input/pee/403600362.CSV',\n",
       "  'input/pee/1077896509.CSV',\n",
       "  'input/pee/1442529136.CSV',\n",
       "  'input/pee/1504182747.CSV',\n",
       "  'input/pee/848854246.CSV',\n",
       "  'input/pee/629983899.CSV',\n",
       "  'input/pee/1689827178.CSV',\n",
       "  'input/pee/584667556.CSV',\n",
       "  'input/pee/1906892699.CSV',\n",
       "  'input/pee/1371633527.CSV',\n",
       "  'input/pee/96204430.CSV',\n",
       "  'input/pee/479893124.CSV',\n",
       "  'input/pee/1367784064.CSV',\n",
       "  'input/pee/296288463.CSV',\n",
       "  'input/pee/1267708188.CSV',\n",
       "  'input/pee/1747426517.CSV',\n",
       "  'input/pee/51331014.CSV',\n",
       "  'input/pee/71619711.CSV',\n",
       "  'input/pee/414536329.CSV',\n",
       "  'input/pee/1649498132.CSV',\n",
       "  'input/pee/1543682160.CSV',\n",
       "  'input/pee/1252516337.CSV',\n",
       "  'input/pee/2066267451.CSV',\n",
       "  'input/pee/1416927758.CSV',\n",
       "  'input/pee/285582887.CSV',\n",
       "  'input/pee/345482450.CSV',\n",
       "  'input/pee/471609893.CSV',\n",
       "  'input/pee/1067020543.CSV',\n",
       "  'input/pee/1367877165.CSV',\n",
       "  'input/pee/20587399.CSV',\n",
       "  'input/pee/1308072927.CSV',\n",
       "  'input/pee/450541081.CSV',\n",
       "  'input/pee/2011798984.CSV',\n",
       "  'input/pee/39021497.CSV',\n",
       "  'input/pee/841432752.CSV',\n",
       "  'input/pee/830342769.CSV',\n",
       "  'input/pee/1754051070.CSV',\n",
       "  'input/pee/580677223.CSV',\n",
       "  'input/pee/1666520055.CSV',\n",
       "  'input/pee/1719203483.CSV',\n",
       "  'input/pee/1022806946.CSV',\n",
       "  'input/pee/1543355730.CSV',\n",
       "  'input/pee/100283189.CSV',\n",
       "  'input/pee/1942921435.CSV',\n",
       "  'input/pee/1985630547.CSV',\n",
       "  'input/pee/947317783.CSV',\n",
       "  'input/pee/2064716961.CSV',\n",
       "  'input/pee/1809546854.CSV',\n",
       "  'input/pee/542026504.CSV',\n",
       "  'input/pee/577422667.CSV',\n",
       "  'input/pee/2146038116.CSV',\n",
       "  'input/pee/1904452932.CSV',\n",
       "  'input/pee/2133631418.CSV',\n",
       "  'input/pee/860634631.CSV',\n",
       "  'input/pee/828221974.CSV',\n",
       "  'input/pee/69244210.CSV',\n",
       "  'input/pee/518480960.CSV',\n",
       "  'input/pee/876586061.CSV',\n",
       "  'input/pee/832331334.CSV',\n",
       "  'input/pee/1719851016.CSV',\n",
       "  'input/pee/1247055530.CSV',\n",
       "  'input/pee/572646192.CSV',\n",
       "  'input/pee/1725900951.CSV',\n",
       "  'input/pee/1066801164.CSV',\n",
       "  'input/pee/2115316543.CSV',\n",
       "  'input/pee/1036496873.CSV',\n",
       "  'input/pee/654523994.CSV',\n",
       "  'input/pee/2093300180.CSV',\n",
       "  'input/pee/99853343.CSV',\n",
       "  'input/pee/876686204.CSV',\n",
       "  'input/pee/1078465873.CSV',\n",
       "  'input/pee/928444825.CSV',\n",
       "  'input/pee/317503380.CSV',\n",
       "  'input/pee/33460877.CSV',\n",
       "  'input/pee/1212689380.CSV',\n",
       "  'input/pee/71298545.CSV',\n",
       "  'input/pee/718523372.CSV',\n",
       "  'input/pee/2022710070.CSV',\n",
       "  'input/pee/722378136.CSV',\n",
       "  'input/pee/477591154.CSV',\n",
       "  'input/pee/1703168015.CSV',\n",
       "  'input/pee/793197740.CSV',\n",
       "  'input/pee/341989057.CSV',\n",
       "  'input/pee/1928141112.CSV',\n",
       "  'input/pee/1955872206.CSV',\n",
       "  'input/pee/1863065186.CSV',\n",
       "  'input/pee/1655567404.CSV',\n",
       "  'input/pee/1359330829.CSV',\n",
       "  'input/pee/439017870.CSV',\n",
       "  'input/pee/626791536.CSV',\n",
       "  'input/pee/1206099335.CSV']}"
      ]
     },
     "execution_count": 2,
     "metadata": {},
     "output_type": "execute_result"
    }
   ],
   "source": [
    "#Read in file names and paths from the input directory\n",
    "from os import walk\n",
    "import os\n",
    "\n",
    "filePath = 'input'\n",
    "f = {}\n",
    "for (dirpath, dirnames, filenames) in walk(filePath):\n",
    "    if filenames:\n",
    "        f[dirpath.rsplit('/', 1)[-1]] = list(os.path.join(dirpath, x) for x in filenames)\n",
    "    \n",
    "f"
   ]
  },
  {
   "cell_type": "code",
   "execution_count": 3,
   "metadata": {
    "scrolled": true
   },
   "outputs": [],
   "source": [
    "#Read in CSV files\n",
    "import pandas as pd\n",
    "import numpy as np\n",
    "\n",
    "data = []\n",
    "labels = []\n",
    "label_names = []\n",
    "\n",
    "index = 0\n",
    "for key in f:\n",
    "    for fileName in f[key]:\n",
    "        #read csv\n",
    "        df = pd.read_csv(fileName, header=None, usecols=lambda x: x < 64)\n",
    "        #add to data\n",
    "        data.append(df.values[0])\n",
    "        #Add flipped data\n",
    "        flip_0 = np.flip(df.values[0].reshape((8,8)), 0)\n",
    "        flip_0_1 = np.flip(flip_0, 1)\n",
    "        data.append(flip_0.reshape(64))\n",
    "        data.append(flip_0_1.reshape(64))\n",
    "        flip_1 = np.flip(df.values[0].reshape((8,8)), 1)\n",
    "        data.append(flip_1.reshape(64))\n",
    "        #create noisy data\n",
    "        noise_level = 0.2\n",
    "        noise = np.random.normal(-noise_level, noise_level, df.values[0].shape)\n",
    "        data.append(df.values[0] + noise);\n",
    "        noise = np.random.normal(-noise_level, noise_level, df.values[0].shape)\n",
    "        data.append(flip_0_1.reshape(64) + noise)\n",
    "        noise = np.random.normal(-noise_level, noise_level, df.values[0].shape)\n",
    "        data.append(flip_0.reshape(64))\n",
    "        noise = np.random.normal(-noise_level, noise_level, df.values[0].shape)\n",
    "        data.append(flip_1.reshape(64))\n",
    "        noise_level = 0.5\n",
    "        noise = np.random.normal(-noise_level, noise_level, df.values[0].shape)\n",
    "        data.append(df.values[0] + noise);\n",
    "        noise = np.random.normal(-noise_level, noise_level, df.values[0].shape)\n",
    "        data.append(flip_0_1.reshape(64) + noise)\n",
    "        noise = np.random.normal(-noise_level, noise_level, df.values[0].shape)\n",
    "        data.append(flip_0.reshape(64))\n",
    "        noise = np.random.normal(-noise_level, noise_level, df.values[0].shape)\n",
    "        data.append(flip_1.reshape(64))\n",
    "        #add labels - for original and flipped\n",
    "        labels.append(index)\n",
    "        labels.append(index)\n",
    "        labels.append(index)\n",
    "        labels.append(index)\n",
    "        labels.append(index)\n",
    "        labels.append(index)\n",
    "        labels.append(index)\n",
    "        labels.append(index)\n",
    "        labels.append(index)\n",
    "        labels.append(index)\n",
    "        labels.append(index)\n",
    "        labels.append(index)\n",
    "    #add label name    \n",
    "    label_names.append(key)\n",
    "    #count numver of classes\n",
    "    index += 1\n",
    "\n"
   ]
  },
  {
   "cell_type": "code",
   "execution_count": 4,
   "metadata": {},
   "outputs": [
    {
     "data": {
      "text/plain": [
       "array([-0.32104773, -0.31931822,  0.05881312, -0.69687529, -0.43154455,\n",
       "       -0.41569883, -0.31720794, -0.30719891, -0.08554748, -0.16306696,\n",
       "       -0.21894634,  0.04712638, -0.14885402, -0.29197001, -0.37954894,\n",
       "       -0.19717804, -0.12251484, -0.0138481 ,  0.21312375, -0.52520563,\n",
       "       -0.64836684, -0.05680236, -0.15023337,  0.17224859, -0.16369468,\n",
       "        0.04603944,  0.17796804,  0.22024273, -0.20049808,  0.00227568,\n",
       "       -0.15873861, -0.31377332, -0.11443015, -0.05325898, -0.25832652,\n",
       "       -0.14923019, -0.00115019, -0.28355902, -0.00282242, -0.37889573,\n",
       "        0.02947173,  0.13863236, -0.43849708, -0.38235955, -0.56319387,\n",
       "       -0.3597017 , -0.54908889, -0.39118477,  0.10923904, -0.12529558,\n",
       "        0.04299845, -0.24434893, -0.14098997, -0.26820146, -0.18263395,\n",
       "       -0.16512362, -0.08492407, -0.12642994, -0.56533848, -0.02428752,\n",
       "        0.09768205, -0.1938111 , -0.50629632, -0.34708666])"
      ]
     },
     "execution_count": 4,
     "metadata": {},
     "output_type": "execute_result"
    }
   ],
   "source": [
    "np.random.normal(-0.2, 0.2, df.values[0].shape)\n"
   ]
  },
  {
   "cell_type": "code",
   "execution_count": 5,
   "metadata": {},
   "outputs": [
    {
     "data": {
      "image/png": "[encoded data removed]",
      "text/plain": [
       "<Figure size 432x288 with 2 Axes>"
      ]
     },
     "metadata": {},
     "output_type": "display_data"
    },
    {
     "data": {
      "image/png": "[encoded data removed]",
      "text/plain": [
       "<Figure size 432x288 with 2 Axes>"
      ]
     },
     "metadata": {},
     "output_type": "display_data"
    },
    {
     "data": {
      "image/png": "[encoded data removed]",
      "text/plain": [
       "<Figure size 432x288 with 2 Axes>"
      ]
     },
     "metadata": {},
     "output_type": "display_data"
    },
    {
     "data": {
      "image/png": "[encoded data removed]",
      "text/plain": [
       "<Figure size 432x288 with 2 Axes>"
      ]
     },
     "metadata": {},
     "output_type": "display_data"
    },
    {
     "data": {
      "image/png": "[encoded data removed]",
      "text/plain": [
       "<Figure size 432x288 with 2 Axes>"
      ]
     },
     "metadata": {},
     "output_type": "display_data"
    },
    {
     "data": {
      "image/png": "[encoded data removed]",
      "text/plain": [
       "<Figure size 432x288 with 2 Axes>"
      ]
     },
     "metadata": {},
     "output_type": "display_data"
    }
   ],
   "source": [
    "#Print test images\n",
    "import matplotlib.pyplot as plt\n",
    "%matplotlib inline\n",
    "\n",
    "for i in range(6):\n",
    "    plt.imshow(data[i].reshape((8,8)), cmap='coolwarm')\n",
    "    plt.colorbar()\n",
    "    plt.show()"
   ]
  },
  {
   "cell_type": "code",
   "execution_count": 6,
   "metadata": {},
   "outputs": [
    {
     "data": {
      "text/html": [
       "<div>\n",
       "<style scoped>\n",
       "    .dataframe tbody tr th:only-of-type {\n",
       "        vertical-align: middle;\n",
       "    }\n",
       "\n",
       "    .dataframe tbody tr th {\n",
       "        vertical-align: top;\n",
       "    }\n",
       "\n",
       "    .dataframe thead th {\n",
       "        text-align: right;\n",
       "    }\n",
       "</style>\n",
       "<table border=\"1\" class=\"dataframe\">\n",
       "  <thead>\n",
       "    <tr style=\"text-align: right;\">\n",
       "      <th></th>\n",
       "      <th>0</th>\n",
       "      <th>1</th>\n",
       "      <th>2</th>\n",
       "      <th>3</th>\n",
       "      <th>4</th>\n",
       "      <th>5</th>\n",
       "      <th>6</th>\n",
       "      <th>7</th>\n",
       "      <th>8</th>\n",
       "      <th>9</th>\n",
       "      <th>...</th>\n",
       "      <th>54</th>\n",
       "      <th>55</th>\n",
       "      <th>56</th>\n",
       "      <th>57</th>\n",
       "      <th>58</th>\n",
       "      <th>59</th>\n",
       "      <th>60</th>\n",
       "      <th>61</th>\n",
       "      <th>62</th>\n",
       "      <th>63</th>\n",
       "    </tr>\n",
       "  </thead>\n",
       "  <tbody>\n",
       "    <tr>\n",
       "      <th>0</th>\n",
       "      <td>19.5</td>\n",
       "      <td>19.25</td>\n",
       "      <td>20.5</td>\n",
       "      <td>20.0</td>\n",
       "      <td>19.5</td>\n",
       "      <td>20.0</td>\n",
       "      <td>19.75</td>\n",
       "      <td>19.5</td>\n",
       "      <td>19.75</td>\n",
       "      <td>19.75</td>\n",
       "      <td>...</td>\n",
       "      <td>18.25</td>\n",
       "      <td>18.5</td>\n",
       "      <td>19.25</td>\n",
       "      <td>20.0</td>\n",
       "      <td>20.0</td>\n",
       "      <td>18.75</td>\n",
       "      <td>18.75</td>\n",
       "      <td>18.25</td>\n",
       "      <td>18.25</td>\n",
       "      <td>18.75</td>\n",
       "    </tr>\n",
       "  </tbody>\n",
       "</table>\n",
       "<p>1 rows × 64 columns</p>\n",
       "</div>"
      ],
      "text/plain": [
       "     0      1     2     3     4     5      6     7      8      9   ...    \\\n",
       "0  19.5  19.25  20.5  20.0  19.5  20.0  19.75  19.5  19.75  19.75  ...     \n",
       "\n",
       "      54    55     56    57    58     59     60     61     62     63  \n",
       "0  18.25  18.5  19.25  20.0  20.0  18.75  18.75  18.25  18.25  18.75  \n",
       "\n",
       "[1 rows x 64 columns]"
      ]
     },
     "execution_count": 6,
     "metadata": {},
     "output_type": "execute_result"
    }
   ],
   "source": [
    "df"
   ]
  },
  {
   "cell_type": "code",
   "execution_count": 7,
   "metadata": {},
   "outputs": [],
   "source": [
    "from sklearn.preprocessing import MinMaxScaler\n",
    "\n",
    "scaler_model = MinMaxScaler()\n",
    "scaler_model.fit(data)\n",
    "data = scaler_model.transform(data)"
   ]
  },
  {
   "cell_type": "code",
   "execution_count": 27,
   "metadata": {},
   "outputs": [
    {
     "data": {
      "text/plain": [
       "['scaler.save']"
      ]
     },
     "execution_count": 27,
     "metadata": {},
     "output_type": "execute_result"
    }
   ],
   "source": [
    "from sklearn.externals import joblib\n",
    "scaler_filename = \"scaler.save\"\n",
    "joblib.dump(scaler_model, scaler_filename) "
   ]
  },
  {
   "cell_type": "code",
   "execution_count": 8,
   "metadata": {},
   "outputs": [
    {
     "name": "stdout",
     "output_type": "stream",
     "text": [
      "(3264, 64)\n"
     ]
    },
    {
     "data": {
      "text/plain": [
       "array([[0.27837286, 0.20473621, 0.27192323, ..., 0.24226303, 0.3299858 ,\n",
       "        0.28070211],\n",
       "       [0.21986255, 0.24659219, 0.31237194, ..., 0.26220348, 0.23145429,\n",
       "        0.24182114],\n",
       "       [0.27837286, 0.28844818, 0.23147452, ..., 0.28214393, 0.25116059,\n",
       "        0.28070211],\n",
       "       ...,\n",
       "       [0.67072659, 0.6039481 , 0.66146219, ..., 0.87728795, 0.7475477 ,\n",
       "        0.7603258 ],\n",
       "       [0.72695189, 0.81164805, 0.81798081, ..., 0.82053598, 0.802937  ,\n",
       "        0.74727371],\n",
       "       [0.74645533, 0.79072005, 0.81798081, ..., 0.82053598, 0.8226433 ,\n",
       "        0.72783323]])"
      ]
     },
     "execution_count": 8,
     "metadata": {},
     "output_type": "execute_result"
    }
   ],
   "source": [
    "print(data.shape)\n",
    "data"
   ]
  },
  {
   "cell_type": "code",
   "execution_count": 9,
   "metadata": {},
   "outputs": [],
   "source": [
    "from sklearn.model_selection import train_test_split\n",
    "import numpy as np\n",
    "\n",
    "X_train, X_test, y_train, y_test = train_test_split(data, labels, test_size=0.3, random_state=42)\n",
    "\n",
    "X_train = np.array(X_train);\n",
    "y_train = np.array(y_train);\n",
    "X_test = np.array(X_test);\n",
    "y_test = np.array(y_test);\n",
    "\n"
   ]
  },
  {
   "cell_type": "code",
   "execution_count": 10,
   "metadata": {},
   "outputs": [
    {
     "data": {
      "text/plain": [
       "<matplotlib.image.AxesImage at 0x7f2cc0474350>"
      ]
     },
     "execution_count": 10,
     "metadata": {},
     "output_type": "execute_result"
    },
    {
     "data": {
      "image/png": "[encoded data removed]",
      "text/plain": [
       "<Figure size 432x288 with 1 Axes>"
      ]
     },
     "metadata": {},
     "output_type": "display_data"
    }
   ],
   "source": [
    "img = X_train[0].reshape((8,8))\n",
    "img = np.flip(img, 0)\n",
    "plt.imshow(img)"
   ]
  },
  {
   "cell_type": "code",
   "execution_count": 11,
   "metadata": {},
   "outputs": [],
   "source": [
    "from tensorflow.python.keras.applications import ResNet50\n",
    "from tensorflow.python.keras.models import Sequential\n",
    "from tensorflow.python.keras.layers import Dense, Flatten, GlobalAveragePooling2D, Dropout\n",
    "\n",
    "num_classes = index\n",
    "resnet_weights_path = filePath + '/resnet50_weights_tf_dim_ordering_tf_kernels_notop.h5'\n",
    "\n",
    "model = Sequential()\n",
    "model.add(Dropout(0.05));\n",
    "# model.add(ResNet50(include_top=False, pooling='avg', weights=resnet_weights_path))\n",
    "model.add(Dense(33, activation='relu'))\n",
    "model.add(Dropout(0.05));\n",
    "# model.add(Dense(32, activation='relu'))\n",
    "# model.add(Dropout(0.025));\n",
    "# model.add(Dense(4, activation='relu'))\n",
    "#model.add(Dropout(0.025));\n",
    "# model.add(Dense(32, activation='relu'))\n",
    "# model.add(Dropout(0.2));\n",
    "# model.add(Dense(16, activation='relu'))\n",
    "# model.add(Dropout(0.1));\n",
    "# model.add(Dense(16, activation='relu'))\n",
    "# model.add(Dropout(0.1));\n",
    "# model.add(Dense(16, activation='relu'))\n",
    "# model.add(Dropout(0.1));\n",
    "# model.add(Dense(16, activation='relu'))\n",
    "# model.add(Dropout(0.1));\n",
    "# model.add(Dense(16, activation='relu'))\n",
    "# model.add(Dropout(0.1));\n",
    "# model.add(Dense(16, activation='relu'))\n",
    "# model.add(Dropout(0.1));\n",
    "# model.add(Dense(8, activation='relu'))\n",
    "# model.add(Dropout(0.1));\n",
    "# model.add(Dense(4, activation='relu'))\n",
    "# model.add(Dropout(0.1));\n",
    "# model.add(Dense(16, activation='relu'))\n",
    "# model.add(Dropout(0.2));\n",
    "# model.add(Dense(8, activation='relu'))\n",
    "# model.add(Dense(4, activation='relu'))\n",
    "model.add(Dense(4, activation='relu'))\n",
    "model.add(Dense(num_classes, activation='softmax'))\n",
    "\n",
    "# Say not to train first layer (ResNet) model. It is already trained\n",
    "# model.layers[0].trainable = False"
   ]
  },
  {
   "cell_type": "code",
   "execution_count": 12,
   "metadata": {},
   "outputs": [],
   "source": [
    "from tensorflow.python.keras import optimizers\n",
    "from tensorflow.python.keras.callbacks import TensorBoard\n",
    "from time import time\n",
    "\n",
    "tensorboard = TensorBoard(log_dir=\"logs/{}\".format(time()))\n",
    "sgd = optimizers.SGD(lr=0.1, clipnorm=1.)\n",
    "model.compile(optimizer='adam', loss='sparse_categorical_crossentropy', metrics=['accuracy'])"
   ]
  },
  {
   "cell_type": "code",
   "execution_count": 13,
   "metadata": {
    "scrolled": true
   },
   "outputs": [
    {
     "name": "stdout",
     "output_type": "stream",
     "text": [
      "Epoch 1/1\n",
      "5000/5000 [==============================] - 15s 3ms/step - loss: 0.3886 - acc: 0.8207 - val_loss: 0.2780 - val_acc: 0.8908\n"
     ]
    },
    {
     "data": {
      "text/plain": [
       "<tensorflow.python.keras.callbacks.History at 0x7f2cc2146050>"
      ]
     },
     "execution_count": 13,
     "metadata": {},
     "output_type": "execute_result"
    }
   ],
   "source": [
    "\n",
    "#data\n",
    "model.fit(\n",
    "        X_train, y_train,\n",
    "        validation_data=(X_test, y_test),\n",
    "        validation_steps=1,\n",
    "        steps_per_epoch=5000,\n",
    "        epochs=1,\n",
    "        callbacks=[tensorboard])\n"
   ]
  },
  {
   "cell_type": "code",
   "execution_count": 14,
   "metadata": {},
   "outputs": [
    {
     "name": "stdout",
     "output_type": "stream",
     "text": [
      "['loss', 'acc']\n",
      "980/980 [==============================] - 0s 15us/step\n",
      "[0.2780133586757037, 0.8908163265306123]\n",
      "2284/2284 [==============================] - 0s 9us/step\n",
      "[0.24432061291617813, 0.9163747811902008]\n"
     ]
    }
   ],
   "source": [
    "print(model.metrics_names)\n",
    "print(model.evaluate(X_test, y_test))\n",
    "print(model.evaluate(X_train, y_train))\n"
   ]
  },
  {
   "cell_type": "code",
   "execution_count": 15,
   "metadata": {
    "scrolled": true
   },
   "outputs": [
    {
     "data": {
      "image/png": "[encoded data removed]",
      "text/plain": [
       "<Figure size 432x288 with 2 Axes>"
      ]
     },
     "metadata": {},
     "output_type": "display_data"
    },
    {
     "name": "stdout",
     "output_type": "stream",
     "text": [
      "Should be: pee\n",
      "['dry', 'pee']\n",
      "[[0.15477042 0.8452296 ]]\n",
      "Prediction: pee\n"
     ]
    },
    {
     "data": {
      "image/png": "[encoded data removed]",
      "text/plain": [
       "<Figure size 432x288 with 2 Axes>"
      ]
     },
     "metadata": {},
     "output_type": "display_data"
    },
    {
     "name": "stdout",
     "output_type": "stream",
     "text": [
      "Should be: dry\n",
      "['dry', 'pee']\n",
      "[[0.67301035 0.3269897 ]]\n",
      "Prediction: dry\n"
     ]
    },
    {
     "data": {
      "image/png": "[encoded data removed]",
      "text/plain": [
       "<Figure size 432x288 with 2 Axes>"
      ]
     },
     "metadata": {},
     "output_type": "display_data"
    },
    {
     "name": "stdout",
     "output_type": "stream",
     "text": [
      "Should be: dry\n",
      "['dry', 'pee']\n",
      "[[0.716375 0.283625]]\n",
      "Prediction: dry\n"
     ]
    },
    {
     "data": {
      "image/png": "[encoded data removed]",
      "text/plain": [
       "<Figure size 432x288 with 2 Axes>"
      ]
     },
     "metadata": {},
     "output_type": "display_data"
    },
    {
     "name": "stdout",
     "output_type": "stream",
     "text": [
      "Should be: dry\n",
      "['dry', 'pee']\n",
      "[[0.9682994  0.03170065]]\n",
      "Prediction: dry\n"
     ]
    },
    {
     "data": {
      "image/png": "[encoded data removed]",
      "text/plain": [
       "<Figure size 432x288 with 2 Axes>"
      ]
     },
     "metadata": {},
     "output_type": "display_data"
    },
    {
     "name": "stdout",
     "output_type": "stream",
     "text": [
      "Should be: dry\n",
      "['dry', 'pee']\n",
      "[[0.77006954 0.22993043]]\n",
      "Prediction: dry\n"
     ]
    },
    {
     "data": {
      "image/png": "[encoded data removed]",
      "text/plain": [
       "<Figure size 432x288 with 2 Axes>"
      ]
     },
     "metadata": {},
     "output_type": "display_data"
    },
    {
     "name": "stdout",
     "output_type": "stream",
     "text": [
      "Should be: pee\n",
      "['dry', 'pee']\n",
      "[[0.26795253 0.73204744]]\n",
      "Prediction: pee\n"
     ]
    },
    {
     "data": {
      "image/png": "[encoded data removed]",
      "text/plain": [
       "<Figure size 432x288 with 2 Axes>"
      ]
     },
     "metadata": {},
     "output_type": "display_data"
    },
    {
     "name": "stdout",
     "output_type": "stream",
     "text": [
      "Should be: pee\n",
      "['dry', 'pee']\n",
      "[[0.06942894 0.9305711 ]]\n",
      "Prediction: pee\n"
     ]
    },
    {
     "data": {
      "image/png": "[encoded data removed]",
      "text/plain": [
       "<Figure size 432x288 with 2 Axes>"
      ]
     },
     "metadata": {},
     "output_type": "display_data"
    },
    {
     "name": "stdout",
     "output_type": "stream",
     "text": [
      "Should be: pee\n",
      "['dry', 'pee']\n",
      "[[0.36636445 0.6336355 ]]\n",
      "Prediction: pee\n"
     ]
    },
    {
     "data": {
      "image/png": "[encoded data removed]",
      "text/plain": [
       "<Figure size 432x288 with 2 Axes>"
      ]
     },
     "metadata": {},
     "output_type": "display_data"
    },
    {
     "name": "stdout",
     "output_type": "stream",
     "text": [
      "Should be: dry\n",
      "['dry', 'pee']\n",
      "[[0.75398034 0.24601966]]\n",
      "Prediction: dry\n"
     ]
    },
    {
     "data": {
      "image/png": "[encoded data removed]",
      "text/plain": [
       "<Figure size 432x288 with 2 Axes>"
      ]
     },
     "metadata": {},
     "output_type": "display_data"
    },
    {
     "name": "stdout",
     "output_type": "stream",
     "text": [
      "Should be: dry\n",
      "['dry', 'pee']\n",
      "[[0.9417736  0.05822644]]\n",
      "Prediction: dry\n"
     ]
    },
    {
     "data": {
      "image/png": "[encoded data removed]",
      "text/plain": [
       "<Figure size 432x288 with 2 Axes>"
      ]
     },
     "metadata": {},
     "output_type": "display_data"
    },
    {
     "name": "stdout",
     "output_type": "stream",
     "text": [
      "Should be: pee\n",
      "['dry', 'pee']\n",
      "[[0.07086686 0.9291331 ]]\n",
      "Prediction: pee\n"
     ]
    }
   ],
   "source": [
    "import matplotlib.pyplot as plt\n",
    "\n",
    "\n",
    "for i in range (0,11):\n",
    "    image = X_test[i]\n",
    "    pred = model.predict(X_test[i:i+1])\n",
    "    \n",
    "    plt.imshow(image.reshape((8,8)), cmap='coolwarm')\n",
    "    plt.colorbar()\n",
    "    plt.show()\n",
    "    print(\"Should be: \" + label_names[y_test[i]])\n",
    "    print(label_names)\n",
    "    print(pred)\n",
    "    print(\"Prediction: \" + label_names[pred.argmax()]) \n"
   ]
  },
  {
   "cell_type": "code",
   "execution_count": 22,
   "metadata": {},
   "outputs": [
    {
     "data": {
      "text/plain": [
       "numpy.ndarray"
      ]
     },
     "execution_count": 22,
     "metadata": {},
     "output_type": "execute_result"
    }
   ],
   "source": [
    "type(X_test[0:0+1])\n",
    "X_test[0:0+1].shape\n",
    "type(X_test[0:0+1][0])"
   ]
  },
  {
   "cell_type": "code",
   "execution_count": 16,
   "metadata": {},
   "outputs": [],
   "source": [
    "#Save the model\n",
    "model.save(\"test_model.h5\");"
   ]
  }
 ],
 "metadata": {
  "kernelspec": {
   "display_name": "Python 2",
   "language": "python",
   "name": "python2"
  },
  "language_info": {
   "codemirror_mode": {
    "name": "ipython",
    "version": 2
   },
   "file_extension": ".py",
   "mimetype": "text/x-python",
   "name": "python",
   "nbconvert_exporter": "python",
   "pygments_lexer": "ipython2",
   "version": "2.7.12"
  }
 },
 "nbformat": 4,
 "nbformat_minor": 2
}
