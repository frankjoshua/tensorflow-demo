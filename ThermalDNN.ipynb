{
 "cells": [
  {
   "cell_type": "code",
   "execution_count": 1,
   "metadata": {},
   "outputs": [],
   "source": [
    "from sklearn.externals import joblib\n",
    "from tensorflow.python.keras.models import load_model"
   ]
  },
  {
   "cell_type": "code",
   "execution_count": 2,
   "metadata": {},
   "outputs": [],
   "source": [
    "import rospy\n",
    "import numpy as np\n",
    "import tensorflow as tf\n",
    "from std_msgs.msg import Float32MultiArray\n",
    "from std_msgs.msg import MultiArrayDimension\n",
    "from std_msgs.msg import Float64"
   ]
  },
  {
   "cell_type": "code",
   "execution_count": 3,
   "metadata": {},
   "outputs": [],
   "source": [
    "class PeePub:\n",
    "    \n",
    "    def __init__(self):\n",
    "        self.session = tf.Session()\n",
    "        self.graph = tf.get_default_graph()\n",
    "        with self.graph.as_default():\n",
    "            with self.session.as_default():\n",
    "        \n",
    "                scaler_filename = \"scaler.save\"\n",
    "                self.scaler_model = joblib.load(scaler_filename) \n",
    "                self.model = load_model('test_model.h5')\n",
    "\n",
    "                rospy.init_node('thermal_dnn', anonymous=False)\n",
    "                rospy.Subscriber('/thermal_cam', Float32MultiArray, self.onThermalReading)\n",
    "                self.pub = rospy.Publisher('pee', Float32MultiArray, queue_size=10)\n",
    "                rospy.spin()\n",
    "        \n",
    "    def onThermalReading(self, readings):\n",
    "        \n",
    "        data = self.scaler_model.transform(np.array([readings.data]))\n",
    "        pred = self.predict(data)\n",
    "        \n",
    "        msg = Float32MultiArray()\n",
    "        msg.data = pred[0]\n",
    "        self.pub.publish(msg)\n",
    "        \n",
    "#         ['dry','pee'][pred.argmax()]\n",
    "\n",
    "    def predict(self, x):\n",
    "        with self.graph.as_default():\n",
    "            with self.session.as_default():\n",
    "               y = self.model.predict(x)\n",
    "        return y\n",
    "        "
   ]
  },
  {
   "cell_type": "code",
   "execution_count": null,
   "metadata": {},
   "outputs": [
    {
     "name": "stdout",
     "output_type": "stream",
     "text": [
      "WARNING:tensorflow:From /usr/local/lib/python3.5/dist-packages/tensorflow/python/keras/layers/core.py:143: calling dropout (from tensorflow.python.ops.nn_ops) with keep_prob is deprecated and will be removed in a future version.\n",
      "Instructions for updating:\n",
      "Please use `rate` instead of `keep_prob`. Rate should be set to `rate = 1 - keep_prob`.\n",
      "WARNING:tensorflow:From /usr/local/lib/python3.5/dist-packages/tensorflow/python/ops/control_flow_ops.py:423: colocate_with (from tensorflow.python.framework.ops) is deprecated and will be removed in a future version.\n",
      "Instructions for updating:\n",
      "Colocations handled automatically by placer.\n"
     ]
    },
    {
     "name": "stderr",
     "output_type": "stream",
     "text": [
      "/usr/local/lib/python3.5/dist-packages/sklearn/base.py:253: UserWarning: Trying to unpickle estimator MinMaxScaler from version 0.19.2 when using version 0.20.3. This might lead to breaking code or invalid results. Use at your own risk.\n",
      "  UserWarning)\n",
      "[WARN] [1553920830.233946]: Inbound TCP/IP connection failed: connection from sender terminated before handshake header received. 0 bytes were received. Please check sender for additional details.\n"
     ]
    }
   ],
   "source": [
    "PeePub()"
   ]
  },
  {
   "cell_type": "code",
   "execution_count": null,
   "metadata": {},
   "outputs": [],
   "source": []
  },
  {
   "cell_type": "code",
   "execution_count": null,
   "metadata": {},
   "outputs": [],
   "source": []
  }
 ],
 "metadata": {
  "kernelspec": {
   "display_name": "Python 2",
   "language": "python",
   "name": "python2"
  },
  "language_info": {
   "codemirror_mode": {
    "name": "ipython",
    "version": 2
   },
   "file_extension": ".py",
   "mimetype": "text/x-python",
   "name": "python",
   "nbconvert_exporter": "python",
   "pygments_lexer": "ipython2",
   "version": "2.7.12"
  }
 },
 "nbformat": 4,
 "nbformat_minor": 2
}
