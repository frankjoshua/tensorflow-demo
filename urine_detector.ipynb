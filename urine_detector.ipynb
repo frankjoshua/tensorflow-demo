{
 "cells": [
  {
   "cell_type": "code",
   "execution_count": 1,
   "metadata": {},
   "outputs": [
    {
     "data": {
      "text/plain": [
       "{'dry': ['input/dry/1088131773.CSV',\n",
       "  'input/dry/530759577.CSV',\n",
       "  'input/dry/78520028.CSV',\n",
       "  'input/dry/1780329192.CSV',\n",
       "  'input/dry/1610930929.CSV',\n",
       "  'input/dry/1361302372.CSV',\n",
       "  'input/dry/1875995420.CSV',\n",
       "  'input/dry/23004232.CSV',\n",
       "  'input/dry/871217096.CSV',\n",
       "  'input/dry/1598104040.CSV',\n",
       "  'input/dry/916165555.CSV',\n",
       "  'input/dry/973161134.CSV',\n",
       "  'input/dry/1894775098.CSV',\n",
       "  'input/dry/1425341542.CSV',\n",
       "  'input/dry/853638664.CSV',\n",
       "  'input/dry/187848587.CSV',\n",
       "  'input/dry/1718437362.CSV',\n",
       "  'input/dry/1530466877.CSV',\n",
       "  'input/dry/1008725065.CSV',\n",
       "  'input/dry/1498192866.CSV',\n",
       "  'input/dry/1408919771.CSV',\n",
       "  'input/dry/452734242.CSV',\n",
       "  'input/dry/945578527.CSV',\n",
       "  'input/dry/609782929.CSV',\n",
       "  'input/dry/1605306145.CSV',\n",
       "  'input/dry/837508863.CSV',\n",
       "  'input/dry/1056519811.CSV',\n",
       "  'input/dry/403715699.CSV',\n",
       "  'input/dry/2133598297.CSV'],\n",
       " 'pee': ['input/pee/1550823235.CSV',\n",
       "  'input/pee/701548843.CSV',\n",
       "  'input/pee/1495269511.CSV',\n",
       "  'input/pee/1871661031.CSV',\n",
       "  'input/pee/1412737797.CSV',\n",
       "  'input/pee/410067060.CSV',\n",
       "  'input/pee/1080620210.CSV',\n",
       "  'input/pee/2078265138.CSV',\n",
       "  'input/pee/1105206469.CSV',\n",
       "  'input/pee/472014017.CSV',\n",
       "  'input/pee/1173202073.CSV',\n",
       "  'input/pee/1367784064.CSV',\n",
       "  'input/pee/1252516337.CSV',\n",
       "  'input/pee/1416927758.CSV',\n",
       "  'input/pee/2011798984.CSV',\n",
       "  'input/pee/39021497.CSV',\n",
       "  'input/pee/1022806946.CSV',\n",
       "  'input/pee/1942921435.CSV',\n",
       "  'input/pee/2146038116.CSV',\n",
       "  'input/pee/2133631418.CSV',\n",
       "  'input/pee/828221974.CSV',\n",
       "  'input/pee/518480960.CSV',\n",
       "  'input/pee/654523994.CSV',\n",
       "  'input/pee/1078465873.CSV',\n",
       "  'input/pee/928444825.CSV',\n",
       "  'input/pee/71298545.CSV',\n",
       "  'input/pee/1703168015.CSV',\n",
       "  'input/pee/1359330829.CSV',\n",
       "  'input/pee/439017870.CSV',\n",
       "  'input/pee/626791536.CSV']}"
      ]
     },
     "execution_count": 1,
     "metadata": {},
     "output_type": "execute_result"
    }
   ],
   "source": [
    "#Read in file names and paths from the input directory\n",
    "from os import walk\n",
    "import os\n",
    "\n",
    "filePath = 'input'\n",
    "f = {}\n",
    "for (dirpath, dirnames, filenames) in walk(filePath):\n",
    "    if filenames:\n",
    "        f[dirpath.rsplit('/', 1)[-1]] = list(os.path.join(dirpath, x) for x in filenames)\n",
    "    \n",
    "f"
   ]
  },
  {
   "cell_type": "code",
   "execution_count": 2,
   "metadata": {
    "scrolled": true
   },
   "outputs": [
    {
     "data": {
      "text/plain": [
       "<matplotlib.image.AxesImage at 0x7f981f358d50>"
      ]
     },
     "execution_count": 2,
     "metadata": {},
     "output_type": "execute_result"
    },
    {
     "data": {
      "image/png": "[encoded data removed]",
      "text/plain": [
       "<Figure size 432x288 with 1 Axes>"
      ]
     },
     "metadata": {},
     "output_type": "display_data"
    }
   ],
   "source": [
    "#Read in CSV files\n",
    "import pandas as pd\n",
    "\n",
    "data = []\n",
    "labels = []\n",
    "label_names = []\n",
    "\n",
    "index = 0\n",
    "for key in f:\n",
    "    for fileName in f[key]:\n",
    "        #read csv\n",
    "        df = pd.read_csv(fileName, header=None, usecols=lambda x: x < 64)\n",
    "        #add to data\n",
    "        data.append(df.values[0])\n",
    "        #add label\n",
    "        labels.append(index)\n",
    "    #add label name    \n",
    "    label_names.append(key)\n",
    "    index += 1\n",
    "\n",
    "#Print test images\n",
    "import matplotlib.pyplot as plt\n",
    "%matplotlib inline\n",
    "plt.imshow(data[0].reshape((8,8)))"
   ]
  },
  {
   "cell_type": "code",
   "execution_count": 3,
   "metadata": {},
   "outputs": [
    {
     "data": {
      "text/plain": [
       "['dry', 'pee']"
      ]
     },
     "execution_count": 3,
     "metadata": {},
     "output_type": "execute_result"
    }
   ],
   "source": [
    "label_names"
   ]
  },
  {
   "cell_type": "code",
   "execution_count": 4,
   "metadata": {},
   "outputs": [],
   "source": [
    "from sklearn.preprocessing import MinMaxScaler\n",
    "\n",
    "scaler_model = MinMaxScaler()\n",
    "scaler_model.fit(data)\n",
    "data = scaler_model.transform(data)"
   ]
  },
  {
   "cell_type": "code",
   "execution_count": 5,
   "metadata": {},
   "outputs": [],
   "source": [
    "from sklearn.model_selection import train_test_split\n",
    "import numpy as np\n",
    "\n",
    "X_train, X_test, y_train, y_test = train_test_split(data, labels, test_size=0.05, random_state=42)\n",
    "\n",
    "X_train = np.array(X_train);\n",
    "y_train = np.array(y_train);\n",
    "X_test = np.array(X_test);\n",
    "y_test = np.array(y_test);\n",
    "\n"
   ]
  },
  {
   "cell_type": "code",
   "execution_count": 6,
   "metadata": {},
   "outputs": [
    {
     "data": {
      "text/plain": [
       "<matplotlib.image.AxesImage at 0x7f981594c650>"
      ]
     },
     "execution_count": 6,
     "metadata": {},
     "output_type": "execute_result"
    },
    {
     "data": {
      "image/png": "[encoded data removed]",
      "text/plain": [
       "<Figure size 432x288 with 1 Axes>"
      ]
     },
     "metadata": {},
     "output_type": "display_data"
    }
   ],
   "source": [
    "plt.imshow(X_train[0].reshape((8,8)))"
   ]
  },
  {
   "cell_type": "code",
   "execution_count": 7,
   "metadata": {},
   "outputs": [],
   "source": [
    "from tensorflow.python.keras.applications import ResNet50\n",
    "from tensorflow.python.keras.models import Sequential\n",
    "from tensorflow.python.keras.layers import Dense, Flatten, GlobalAveragePooling2D, Dropout\n",
    "\n",
    "num_classes = index\n",
    "resnet_weights_path = './dogs/resnet50_weights_tf_dim_ordering_tf_kernels_notop.h5'\n",
    "\n",
    "my_new_model = Sequential()\n",
    "my_new_model.add(Dropout(0.05));\n",
    "# my_new_model.add(ResNet50(include_top=False, pooling='avg', weights=resnet_weights_path))\n",
    "#my_new_model.add(Dense(64, activation='relu'))\n",
    "my_new_model.add(Dense(48, activation='relu'))\n",
    "my_new_model.add(Dropout(0.05));\n",
    "my_new_model.add(Dense(32, activation='relu'))\n",
    "my_new_model.add(Dropout(0.05));\n",
    "# my_new_model.add(Dense(16, activation='relu'))\n",
    "# my_new_model.add(Dropout(0.2));\n",
    "# my_new_model.add(Dense(8, activation='relu'))\n",
    "# my_new_model.add(Dense(4, activation='relu'))\n",
    "# my_new_model.add(Dense(4, activation='relu'))\n",
    "my_new_model.add(Dense(num_classes, activation='softmax'))\n",
    "\n",
    "# Say not to train first layer (ResNet) model. It is already trained\n",
    "# my_new_model.layers[0].trainable = False"
   ]
  },
  {
   "cell_type": "code",
   "execution_count": 8,
   "metadata": {},
   "outputs": [],
   "source": [
    "from tensorflow.python.keras import optimizers\n",
    "\n",
    "# sgd = optimizers.SGD(lr=0.0004, clipnorm=1.)\n",
    "my_new_model.compile(optimizer='adam', loss='sparse_categorical_crossentropy', metrics=['accuracy'])"
   ]
  },
  {
   "cell_type": "code",
   "execution_count": 9,
   "metadata": {},
   "outputs": [
    {
     "name": "stdout",
     "output_type": "stream",
     "text": [
      "Epoch 1/5\n",
      "2000/2000 [==============================] - 2s 969us/step - loss: 0.1551 - acc: 0.9388 - val_loss: 0.0053 - val_acc: 1.0000\n",
      "Epoch 2/5\n",
      "2000/2000 [==============================] - 2s 863us/step - loss: 0.0557 - acc: 0.9809 - val_loss: 0.0093 - val_acc: 1.0000\n",
      "Epoch 3/5\n",
      "2000/2000 [==============================] - 2s 985us/step - loss: 0.0422 - acc: 0.9852 - val_loss: 0.0085 - val_acc: 1.0000\n",
      "Epoch 4/5\n",
      "2000/2000 [==============================] - 2s 977us/step - loss: 0.0304 - acc: 0.9898 - val_loss: 0.0041 - val_acc: 1.0000\n",
      "Epoch 5/5\n",
      "2000/2000 [==============================] - 2s 956us/step - loss: 0.0249 - acc: 0.9917 - val_loss: 0.0294 - val_acc: 1.0000\n"
     ]
    },
    {
     "data": {
      "text/plain": [
       "<tensorflow.python.keras.callbacks.History at 0x7f980b2cc990>"
      ]
     },
     "execution_count": 9,
     "metadata": {},
     "output_type": "execute_result"
    }
   ],
   "source": [
    "\n",
    "#data\n",
    "my_new_model.fit(\n",
    "        X_train, y_train,\n",
    "#         validation_split=0.1,\n",
    "        validation_data=(X_test, y_test),\n",
    "        validation_steps=10,\n",
    "        steps_per_epoch=2000,\n",
    "        epochs=5)"
   ]
  },
  {
   "cell_type": "code",
   "execution_count": 10,
   "metadata": {},
   "outputs": [
    {
     "name": "stdout",
     "output_type": "stream",
     "text": [
      "['loss', 'acc']\n",
      "3/3 [==============================] - 0s 273us/step\n",
      "[0.029419822618365288, 1.0]\n"
     ]
    }
   ],
   "source": [
    "print(my_new_model.metrics_names)\n",
    "print(my_new_model.evaluate(X_test, y_test))\n"
   ]
  },
  {
   "cell_type": "code",
   "execution_count": 11,
   "metadata": {
    "scrolled": true
   },
   "outputs": [
    {
     "data": {
      "image/png": "[encoded data removed]",
      "text/plain": [
       "<Figure size 432x288 with 1 Axes>"
      ]
     },
     "metadata": {},
     "output_type": "display_data"
    },
    {
     "name": "stdout",
     "output_type": "stream",
     "text": [
      "Should be: dry\n",
      "['dry', 'pee']\n",
      "[[9.9976724e-01 2.3274518e-04]]\n",
      "Prediction: dry\n"
     ]
    },
    {
     "data": {
      "image/png": "[encoded data removed]",
      "text/plain": [
       "<Figure size 432x288 with 1 Axes>"
      ]
     },
     "metadata": {},
     "output_type": "display_data"
    },
    {
     "name": "stdout",
     "output_type": "stream",
     "text": [
      "Should be: dry\n",
      "['dry', 'pee']\n",
      "[[9.9989927e-01 1.0072322e-04]]\n",
      "Prediction: dry\n"
     ]
    },
    {
     "data": {
      "image/png": "[encoded data removed]",
      "text/plain": [
       "<Figure size 432x288 with 1 Axes>"
      ]
     },
     "metadata": {},
     "output_type": "display_data"
    },
    {
     "name": "stdout",
     "output_type": "stream",
     "text": [
      "Should be: pee\n",
      "['dry', 'pee']\n",
      "[[0.08417127 0.9158287 ]]\n",
      "Prediction: pee\n"
     ]
    },
    {
     "ename": "IndexError",
     "evalue": "index 3 is out of bounds for axis 0 with size 3",
     "output_type": "error",
     "traceback": [
      "\u001b[0;31m---------------------------------------------------------------------------\u001b[0m",
      "\u001b[0;31mIndexError\u001b[0m                                Traceback (most recent call last)",
      "\u001b[0;32m<ipython-input-11-06cbaf68c244>\u001b[0m in \u001b[0;36m<module>\u001b[0;34m()\u001b[0m\n\u001b[1;32m      3\u001b[0m \u001b[0;34m\u001b[0m\u001b[0m\n\u001b[1;32m      4\u001b[0m \u001b[0;32mfor\u001b[0m \u001b[0mi\u001b[0m \u001b[0;32min\u001b[0m \u001b[0mrange\u001b[0m \u001b[0;34m(\u001b[0m\u001b[0;36m0\u001b[0m\u001b[0;34m,\u001b[0m\u001b[0;36m5\u001b[0m\u001b[0;34m)\u001b[0m\u001b[0;34m:\u001b[0m\u001b[0;34m\u001b[0m\u001b[0m\n\u001b[0;32m----> 5\u001b[0;31m     \u001b[0mimage\u001b[0m \u001b[0;34m=\u001b[0m \u001b[0mX_test\u001b[0m\u001b[0;34m[\u001b[0m\u001b[0mi\u001b[0m\u001b[0;34m]\u001b[0m\u001b[0;34m\u001b[0m\u001b[0m\n\u001b[0m\u001b[1;32m      6\u001b[0m     \u001b[0mpred\u001b[0m \u001b[0;34m=\u001b[0m \u001b[0mmy_new_model\u001b[0m\u001b[0;34m.\u001b[0m\u001b[0mpredict\u001b[0m\u001b[0;34m(\u001b[0m\u001b[0mX_test\u001b[0m\u001b[0;34m[\u001b[0m\u001b[0mi\u001b[0m\u001b[0;34m:\u001b[0m\u001b[0mi\u001b[0m\u001b[0;34m+\u001b[0m\u001b[0;36m1\u001b[0m\u001b[0;34m]\u001b[0m\u001b[0;34m)\u001b[0m\u001b[0;34m\u001b[0m\u001b[0m\n\u001b[1;32m      7\u001b[0m     \u001b[0mplt\u001b[0m\u001b[0;34m.\u001b[0m\u001b[0mimshow\u001b[0m\u001b[0;34m(\u001b[0m\u001b[0mimage\u001b[0m\u001b[0;34m.\u001b[0m\u001b[0mreshape\u001b[0m\u001b[0;34m(\u001b[0m\u001b[0;34m(\u001b[0m\u001b[0;36m8\u001b[0m\u001b[0;34m,\u001b[0m\u001b[0;36m8\u001b[0m\u001b[0;34m)\u001b[0m\u001b[0;34m)\u001b[0m\u001b[0;34m)\u001b[0m\u001b[0;34m\u001b[0m\u001b[0m\n",
      "\u001b[0;31mIndexError\u001b[0m: index 3 is out of bounds for axis 0 with size 3"
     ]
    }
   ],
   "source": [
    "import matplotlib.pyplot as plt\n",
    "\n",
    "\n",
    "for i in range (0,5):\n",
    "    image = X_test[i]\n",
    "    pred = my_new_model.predict(X_test[i:i+1])\n",
    "    plt.imshow(image.reshape((8,8)))\n",
    "    plt.show()\n",
    "    print(\"Should be: \" + label_names[y_test[i]])\n",
    "    print(label_names)\n",
    "    print(pred)\n",
    "    print(\"Prediction: \" + label_names[pred.argmax()]) \n"
   ]
  },
  {
   "cell_type": "code",
   "execution_count": null,
   "metadata": {},
   "outputs": [],
   "source": []
  },
  {
   "cell_type": "code",
   "execution_count": null,
   "metadata": {},
   "outputs": [],
   "source": []
  }
 ],
 "metadata": {
  "kernelspec": {
   "display_name": "Python 2",
   "language": "python",
   "name": "python2"
  },
  "language_info": {
   "codemirror_mode": {
    "name": "ipython",
    "version": 2
   },
   "file_extension": ".py",
   "mimetype": "text/x-python",
   "name": "python",
   "nbconvert_exporter": "python",
   "pygments_lexer": "ipython2",
   "version": "2.7.12"
  }
 },
 "nbformat": 4,
 "nbformat_minor": 2
}
