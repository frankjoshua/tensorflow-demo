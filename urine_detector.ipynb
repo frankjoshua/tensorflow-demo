{
 "cells": [
  {
   "cell_type": "code",
   "execution_count": 1,
   "metadata": {},
   "outputs": [],
   "source": [
    "#Read in file names and paths from the input directory\n",
    "from os import walk\n",
    "import os\n",
    "\n",
    "filePath = 'input'\n",
    "f = {}\n",
    "for (dirpath, dirnames, filenames) in walk(filePath):\n",
    "    if filenames:\n",
    "        f[dirpath.rsplit('/', 1)[-1]] = list(os.path.join(dirpath, x) for x in filenames)\n",
    "    \n",
    "f"
   ]
  },
  {
   "cell_type": "code",
   "execution_count": 2,
   "metadata": {
    "scrolled": true
   },
   "outputs": [
    {
     "data": {
      "text/plain": [
       "<matplotlib.image.AxesImage at 0x7fe746f83550>"
      ]
     },
     "execution_count": 2,
     "metadata": {},
     "output_type": "execute_result"
    },
    {
     "data": {
      "image/png": "[encoded data removed]",
      "text/plain": [
       "<Figure size 432x288 with 1 Axes>"
      ]
     },
     "metadata": {},
     "output_type": "display_data"
    }
   ],
   "source": [
    "#Read in CSV files\n",
    "import pandas as pd\n",
    "\n",
    "data = []\n",
    "labels = []\n",
    "label_names = []\n",
    "\n",
    "index = 0\n",
    "for key in f:\n",
    "    for fileName in f[key]:\n",
    "        #read csv\n",
    "        df = pd.read_csv(fileName, header=None, usecols=lambda x: x < 64)\n",
    "        #add to data\n",
    "        data.append(df.values[0])\n",
    "        #add label\n",
    "        labels.append(index)\n",
    "    #add label name    \n",
    "    label_names.append(key)\n",
    "    index += 1\n",
    "\n",
    "#Print test images\n",
    "import matplotlib.pyplot as plt\n",
    "%matplotlib inline\n",
    "plt.imshow(data[0].reshape((8,8)))"
   ]
  },
  {
   "cell_type": "code",
   "execution_count": 18,
   "metadata": {},
   "outputs": [
    {
     "data": {
      "text/html": [
       "<div>\n",
       "<style scoped>\n",
       "    .dataframe tbody tr th:only-of-type {\n",
       "        vertical-align: middle;\n",
       "    }\n",
       "\n",
       "    .dataframe tbody tr th {\n",
       "        vertical-align: top;\n",
       "    }\n",
       "\n",
       "    .dataframe thead th {\n",
       "        text-align: right;\n",
       "    }\n",
       "</style>\n",
       "<table border=\"1\" class=\"dataframe\">\n",
       "  <thead>\n",
       "    <tr style=\"text-align: right;\">\n",
       "      <th></th>\n",
       "      <th>0</th>\n",
       "      <th>1</th>\n",
       "      <th>2</th>\n",
       "      <th>3</th>\n",
       "      <th>4</th>\n",
       "      <th>5</th>\n",
       "      <th>6</th>\n",
       "      <th>7</th>\n",
       "      <th>8</th>\n",
       "      <th>9</th>\n",
       "      <th>...</th>\n",
       "      <th>54</th>\n",
       "      <th>55</th>\n",
       "      <th>56</th>\n",
       "      <th>57</th>\n",
       "      <th>58</th>\n",
       "      <th>59</th>\n",
       "      <th>60</th>\n",
       "      <th>61</th>\n",
       "      <th>62</th>\n",
       "      <th>63</th>\n",
       "    </tr>\n",
       "  </thead>\n",
       "  <tbody>\n",
       "    <tr>\n",
       "      <th>0</th>\n",
       "      <td>19.5</td>\n",
       "      <td>19.25</td>\n",
       "      <td>20.5</td>\n",
       "      <td>20.0</td>\n",
       "      <td>19.5</td>\n",
       "      <td>20.0</td>\n",
       "      <td>19.75</td>\n",
       "      <td>19.5</td>\n",
       "      <td>19.75</td>\n",
       "      <td>19.75</td>\n",
       "      <td>...</td>\n",
       "      <td>18.25</td>\n",
       "      <td>18.5</td>\n",
       "      <td>19.25</td>\n",
       "      <td>20.0</td>\n",
       "      <td>20.0</td>\n",
       "      <td>18.75</td>\n",
       "      <td>18.75</td>\n",
       "      <td>18.25</td>\n",
       "      <td>18.25</td>\n",
       "      <td>18.75</td>\n",
       "    </tr>\n",
       "  </tbody>\n",
       "</table>\n",
       "<p>1 rows × 64 columns</p>\n",
       "</div>"
      ],
      "text/plain": [
       "     0      1     2     3     4     5      6     7      8      9   ...    \\\n",
       "0  19.5  19.25  20.5  20.0  19.5  20.0  19.75  19.5  19.75  19.75  ...     \n",
       "\n",
       "      54    55     56    57    58     59     60     61     62     63  \n",
       "0  18.25  18.5  19.25  20.0  20.0  18.75  18.75  18.25  18.25  18.75  \n",
       "\n",
       "[1 rows x 64 columns]"
      ]
     },
     "execution_count": 18,
     "metadata": {},
     "output_type": "execute_result"
    }
   ],
   "source": [
    "df\n"
   ]
  },
  {
   "cell_type": "code",
   "execution_count": 4,
   "metadata": {},
   "outputs": [],
   "source": [
    "from sklearn.preprocessing import MinMaxScaler\n",
    "\n",
    "scaler_model = MinMaxScaler()\n",
    "scaler_model.fit(data)\n",
    "data = scaler_model.transform(data)"
   ]
  },
  {
   "cell_type": "code",
   "execution_count": 5,
   "metadata": {},
   "outputs": [
    {
     "data": {
      "text/plain": [
       "array([0.5       , 0.45833333, 0.61904762, 0.47826087, 0.52173913,\n",
       "       0.52      , 0.56521739, 0.39285714, 0.68181818, 0.57692308,\n",
       "       0.58333333, 0.57692308, 0.53846154, 0.53846154, 0.5       ,\n",
       "       0.47826087, 0.80769231, 0.60714286, 0.62962963, 0.5862069 ,\n",
       "       0.6       , 0.53571429, 0.46153846, 0.41666667, 0.73913043,\n",
       "       0.57142857, 0.61538462, 0.6       , 0.56666667, 0.60714286,\n",
       "       0.60714286, 0.52173913, 0.66666667, 0.75      , 0.62068966,\n",
       "       0.63333333, 0.59375   , 0.57142857, 0.46153846, 0.45454545,\n",
       "       0.45833333, 0.64      , 0.54166667, 0.58333333, 0.59259259,\n",
       "       0.57142857, 0.52      , 0.47826087, 0.54166667, 0.5       ,\n",
       "       0.68      , 0.65384615, 0.65384615, 0.47826087, 0.36363636,\n",
       "       0.42857143, 0.59259259, 0.45454545, 0.66666667, 0.69565217,\n",
       "       0.6       , 0.43478261, 0.43478261, 0.45454545])"
      ]
     },
     "execution_count": 5,
     "metadata": {},
     "output_type": "execute_result"
    }
   ],
   "source": [
    "data[0]"
   ]
  },
  {
   "cell_type": "code",
   "execution_count": 6,
   "metadata": {},
   "outputs": [],
   "source": [
    "from sklearn.model_selection import train_test_split\n",
    "import numpy as np\n",
    "\n",
    "X_train, X_test, y_train, y_test = train_test_split(data, labels, test_size=0.2, random_state=42)\n",
    "\n",
    "X_train = np.array(X_train);\n",
    "y_train = np.array(y_train);\n",
    "X_test = np.array(X_test);\n",
    "y_test = np.array(y_test);\n",
    "\n"
   ]
  },
  {
   "cell_type": "code",
   "execution_count": 7,
   "metadata": {},
   "outputs": [
    {
     "data": {
      "text/plain": [
       "<matplotlib.image.AxesImage at 0x7fe73d58c590>"
      ]
     },
     "execution_count": 7,
     "metadata": {},
     "output_type": "execute_result"
    },
    {
     "data": {
      "image/png": "[encoded data removed]",
      "text/plain": [
       "<Figure size 432x288 with 1 Axes>"
      ]
     },
     "metadata": {},
     "output_type": "display_data"
    }
   ],
   "source": [
    "plt.imshow(X_train[0].reshape((8,8)))"
   ]
  },
  {
   "cell_type": "code",
   "execution_count": 8,
   "metadata": {},
   "outputs": [],
   "source": [
    "from tensorflow.python.keras.applications import ResNet50\n",
    "from tensorflow.python.keras.models import Sequential\n",
    "from tensorflow.python.keras.layers import Dense, Flatten, GlobalAveragePooling2D, Dropout\n",
    "\n",
    "num_classes = index\n",
    "resnet_weights_path = filePath + '/resnet50_weights_tf_dim_ordering_tf_kernels_notop.h5'\n",
    "\n",
    "my_new_model = Sequential()\n",
    "my_new_model.add(Dropout(0.05));\n",
    "# my_new_model.add(ResNet50(include_top=False, pooling='avg', weights=resnet_weights_path))\n",
    "#my_new_model.add(Dense(64, activation='relu'))\n",
    "my_new_model.add(Dense(16, activation='relu'))\n",
    "my_new_model.add(Dropout(0.2));\n",
    "my_new_model.add(Dense(16, activation='relu'))\n",
    "my_new_model.add(Dropout(0.2));\n",
    "my_new_model.add(Dense(8, activation='relu'))\n",
    "my_new_model.add(Dropout(0.2));\n",
    "my_new_model.add(Dense(4, activation='relu'))\n",
    "my_new_model.add(Dropout(0.2));\n",
    "# my_new_model.add(Dense(16, activation='relu'))\n",
    "# my_new_model.add(Dropout(0.2));\n",
    "# my_new_model.add(Dense(8, activation='relu'))\n",
    "# my_new_model.add(Dense(4, activation='relu'))\n",
    "# my_new_model.add(Dense(4, activation='relu'))\n",
    "my_new_model.add(Dense(num_classes, activation='softmax'))\n",
    "\n",
    "# Say not to train first layer (ResNet) model. It is already trained\n",
    "# my_new_model.layers[0].trainable = False"
   ]
  },
  {
   "cell_type": "code",
   "execution_count": 9,
   "metadata": {},
   "outputs": [],
   "source": [
    "from tensorflow.python.keras import optimizers\n",
    "\n",
    "sgd = optimizers.SGD(lr=0.001, clipnorm=1.)\n",
    "my_new_model.compile(optimizer='adam', loss='sparse_categorical_crossentropy', metrics=['accuracy'])"
   ]
  },
  {
   "cell_type": "code",
   "execution_count": 10,
   "metadata": {},
   "outputs": [
    {
     "name": "stdout",
     "output_type": "stream",
     "text": [
      "Epoch 1/5\n",
      "10000/10000 [==============================] - 11s 1ms/step - loss: 0.2995 - acc: 0.8731 - val_loss: 0.1297 - val_acc: 0.9355\n",
      "Epoch 2/5\n",
      "10000/10000 [==============================] - 11s 1ms/step - loss: 0.2079 - acc: 0.9211 - val_loss: 0.1207 - val_acc: 0.9355\n",
      "Epoch 3/5\n",
      "10000/10000 [==============================] - 11s 1ms/step - loss: 0.1759 - acc: 0.9345 - val_loss: 0.1394 - val_acc: 0.9355\n",
      "Epoch 4/5\n",
      "10000/10000 [==============================] - 11s 1ms/step - loss: 0.1604 - acc: 0.9411 - val_loss: 0.1053 - val_acc: 0.9677\n",
      "Epoch 5/5\n",
      "10000/10000 [==============================] - 11s 1ms/step - loss: 0.1509 - acc: 0.9453 - val_loss: 0.1979 - val_acc: 0.9355\n"
     ]
    },
    {
     "data": {
      "text/plain": [
       "<tensorflow.python.keras.callbacks.History at 0x7fe732bcbcd0>"
      ]
     },
     "execution_count": 10,
     "metadata": {},
     "output_type": "execute_result"
    }
   ],
   "source": [
    "\n",
    "#data\n",
    "my_new_model.fit(\n",
    "        X_train, y_train,\n",
    "#         validation_split=0.1,\n",
    "        validation_data=(X_test, y_test),\n",
    "        validation_steps=10,\n",
    "        steps_per_epoch=10000,\n",
    "        epochs=5)"
   ]
  },
  {
   "cell_type": "code",
   "execution_count": 11,
   "metadata": {},
   "outputs": [
    {
     "name": "stdout",
     "output_type": "stream",
     "text": [
      "['loss', 'acc']\n",
      "31/31 [==============================] - 0s 38us/step\n",
      "[0.19788134098052979, 0.9354838728904724]\n"
     ]
    }
   ],
   "source": [
    "print(my_new_model.metrics_names)\n",
    "print(my_new_model.evaluate(X_test, y_test))\n"
   ]
  },
  {
   "cell_type": "code",
   "execution_count": 12,
   "metadata": {
    "scrolled": true
   },
   "outputs": [
    {
     "data": {
      "image/png": "[encoded data removed]",
      "text/plain": [
       "<Figure size 432x288 with 2 Axes>"
      ]
     },
     "metadata": {},
     "output_type": "display_data"
    },
    {
     "name": "stdout",
     "output_type": "stream",
     "text": [
      "Should be: pee\n",
      "['dry', 'pee']\n",
      "[[1.4299304e-04 9.9985695e-01]]\n",
      "Prediction: pee\n"
     ]
    },
    {
     "data": {
      "image/png": "[encoded data removed]",
      "text/plain": [
       "<Figure size 432x288 with 2 Axes>"
      ]
     },
     "metadata": {},
     "output_type": "display_data"
    },
    {
     "name": "stdout",
     "output_type": "stream",
     "text": [
      "Should be: pee\n",
      "['dry', 'pee']\n",
      "[[1.1456316e-05 9.9998856e-01]]\n",
      "Prediction: pee\n"
     ]
    },
    {
     "data": {
      "image/png": "[encoded data removed]",
      "text/plain": [
       "<Figure size 432x288 with 2 Axes>"
      ]
     },
     "metadata": {},
     "output_type": "display_data"
    },
    {
     "name": "stdout",
     "output_type": "stream",
     "text": [
      "Should be: pee\n",
      "['dry', 'pee']\n",
      "[[5.278348e-07 9.999995e-01]]\n",
      "Prediction: pee\n"
     ]
    },
    {
     "data": {
      "image/png": "[encoded data removed]",
      "text/plain": [
       "<Figure size 432x288 with 2 Axes>"
      ]
     },
     "metadata": {},
     "output_type": "display_data"
    },
    {
     "name": "stdout",
     "output_type": "stream",
     "text": [
      "Should be: pee\n",
      "['dry', 'pee']\n",
      "[[6.077443e-08 9.999999e-01]]\n",
      "Prediction: pee\n"
     ]
    },
    {
     "data": {
      "image/png": "[encoded data removed]",
      "text/plain": [
       "<Figure size 432x288 with 2 Axes>"
      ]
     },
     "metadata": {},
     "output_type": "display_data"
    },
    {
     "name": "stdout",
     "output_type": "stream",
     "text": [
      "Should be: dry\n",
      "['dry', 'pee']\n",
      "[[0.50719506 0.49280488]]\n",
      "Prediction: dry\n"
     ]
    },
    {
     "data": {
      "image/png": "[encoded data removed]",
      "text/plain": [
       "<Figure size 432x288 with 2 Axes>"
      ]
     },
     "metadata": {},
     "output_type": "display_data"
    },
    {
     "name": "stdout",
     "output_type": "stream",
     "text": [
      "Should be: pee\n",
      "['dry', 'pee']\n",
      "[[1.3920639e-05 9.9998605e-01]]\n",
      "Prediction: pee\n"
     ]
    },
    {
     "data": {
      "image/png": "[encoded data removed]",
      "text/plain": [
       "<Figure size 432x288 with 2 Axes>"
      ]
     },
     "metadata": {},
     "output_type": "display_data"
    },
    {
     "name": "stdout",
     "output_type": "stream",
     "text": [
      "Should be: pee\n",
      "['dry', 'pee']\n",
      "[[2.4704576e-08 1.0000000e+00]]\n",
      "Prediction: pee\n"
     ]
    },
    {
     "data": {
      "image/png": "[encoded data removed]",
      "text/plain": [
       "<Figure size 432x288 with 2 Axes>"
      ]
     },
     "metadata": {},
     "output_type": "display_data"
    },
    {
     "name": "stdout",
     "output_type": "stream",
     "text": [
      "Should be: pee\n",
      "['dry', 'pee']\n",
      "[[1.1719277e-06 9.9999881e-01]]\n",
      "Prediction: pee\n"
     ]
    },
    {
     "data": {
      "image/png": "[encoded data removed]",
      "text/plain": [
       "<Figure size 432x288 with 2 Axes>"
      ]
     },
     "metadata": {},
     "output_type": "display_data"
    },
    {
     "name": "stdout",
     "output_type": "stream",
     "text": [
      "Should be: dry\n",
      "['dry', 'pee']\n",
      "[[0.74978834 0.25021163]]\n",
      "Prediction: dry\n"
     ]
    },
    {
     "data": {
      "image/png": "[encoded data removed]",
      "text/plain": [
       "<Figure size 432x288 with 2 Axes>"
      ]
     },
     "metadata": {},
     "output_type": "display_data"
    },
    {
     "name": "stdout",
     "output_type": "stream",
     "text": [
      "Should be: dry\n",
      "['dry', 'pee']\n",
      "[[0.9529685 0.0470315]]\n",
      "Prediction: dry\n"
     ]
    },
    {
     "data": {
      "image/png": "[encoded data removed]",
      "text/plain": [
       "<Figure size 432x288 with 2 Axes>"
      ]
     },
     "metadata": {},
     "output_type": "display_data"
    },
    {
     "name": "stdout",
     "output_type": "stream",
     "text": [
      "Should be: dry\n",
      "['dry', 'pee']\n",
      "[[0.9267759 0.0732241]]\n",
      "Prediction: dry\n"
     ]
    }
   ],
   "source": [
    "import matplotlib.pyplot as plt\n",
    "\n",
    "\n",
    "for i in range (0,11):\n",
    "    image = X_test[i]\n",
    "    pred = my_new_model.predict(X_test[i:i+1])\n",
    "    \n",
    "    plt.imshow(image.reshape((8,8)))\n",
    "    plt.colorbar()\n",
    "    plt.show()\n",
    "    print(\"Should be: \" + label_names[y_test[i]])\n",
    "    print(label_names)\n",
    "    print(pred)\n",
    "    print(\"Prediction: \" + label_names[pred.argmax()]) \n"
   ]
  },
  {
   "cell_type": "code",
   "execution_count": null,
   "metadata": {},
   "outputs": [],
   "source": []
  },
  {
   "cell_type": "code",
   "execution_count": null,
   "metadata": {},
   "outputs": [],
   "source": []
  }
 ],
 "metadata": {
  "kernelspec": {
   "display_name": "Python 2",
   "language": "python",
   "name": "python2"
  },
  "language_info": {
   "codemirror_mode": {
    "name": "ipython",
    "version": 2
   },
   "file_extension": ".py",
   "mimetype": "text/x-python",
   "name": "python",
   "nbconvert_exporter": "python",
   "pygments_lexer": "ipython2",
   "version": "2.7.12"
  }
 },
 "nbformat": 4,
 "nbformat_minor": 2
}
